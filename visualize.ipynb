{
 "cells": [
  {
   "cell_type": "code",
   "execution_count": 1,
   "metadata": {},
   "outputs": [
    {
     "name": "stdout",
     "output_type": "stream",
     "text": [
      "Initializing empty model here (0)\n"
     ]
    },
    {
     "name": "stderr",
     "output_type": "stream",
     "text": [
      "Some weights of the model checkpoint at roberta-base were not used when initializing CustomRobertaModel: ['lm_head.bias', 'lm_head.layer_norm.weight', 'lm_head.layer_norm.bias', 'lm_head.dense.bias', 'lm_head.dense.weight']\n",
      "- This IS expected if you are initializing CustomRobertaModel from the checkpoint of a model trained on another task or with another architecture (e.g. initializing a BertForSequenceClassification model from a BertForPreTraining model).\n",
      "- This IS NOT expected if you are initializing CustomRobertaModel from the checkpoint of a model that you expect to be exactly identical (initializing a BertForSequenceClassification model from a BertForSequenceClassification model).\n",
      "Some weights of CustomRobertaModel were not initialized from the model checkpoint at roberta-base and are newly initialized: ['roberta.log_reweighting', 'roberta.pooler.dense.weight', 'roberta.pooler.dense.bias']\n",
      "You should probably TRAIN this model on a down-stream task to be able to use it for predictions and inference.\n"
     ]
    },
    {
     "name": "stdout",
     "output_type": "stream",
     "text": [
      "Load the specified checkpoint /fs/nexus-scratch/milis/848K/CLAP/logs/reweighting_9_1e5_acaps_clotho/checkpoints/epoch_latest.pt from users.\n",
      "Load Checkpoint...\n",
      "Loaded state dict to memory (1)\n",
      "Reweighting modules:\n",
      "['text_branch.log_reweighting']\n",
      "Loading state dict to model (2)\n",
      "Loaded state dict to model strictly (3)\n"
     ]
    }
   ],
   "source": [
    "import warnings\n",
    "warnings.filterwarnings('ignore')\n",
    "\n",
    "import torch\n",
    "from transformers import RobertaTokenizer\n",
    "from src import laion_clap\n",
    "\n",
    "\n",
    "checkpoint_path = \"/fs/nexus-scratch/milis/848K/CLAP/logs/reweighting_9_1e5_acaps_clotho/checkpoints/epoch_latest.pt\"\n",
    "\n",
    "\n",
    "model = laion_clap.CLAP_Module()\n",
    "model.load_ckpt(checkpoint_path)\n",
    "model.eval()\n",
    "\n",
    "\n",
    "log_reweighting = model.model.text_branch.log_reweighting\n",
    "\n",
    "tokenizer = RobertaTokenizer.from_pretrained(\"roberta-base\")\n",
    "\n",
    "\n",
    "def tokenize(text):\n",
    "    token_ids = tokenizer.encode(text)\n",
    "    tokens = tokenizer.convert_ids_to_tokens(token_ids)\n",
    "    return token_ids, tokens"
   ]
  },
  {
   "cell_type": "code",
   "execution_count": 33,
   "metadata": {},
   "outputs": [],
   "source": [
    "import matplotlib\n",
    "import numpy as np\n",
    "from IPython.display import HTML, display\n",
    "\n",
    "\n",
    "def visualize_sentences(tokenized_sentences, token_weights):\n",
    "    # Get colormap\n",
    "    cmap = matplotlib.cm.get_cmap(\"OrRd\")\n",
    "    \n",
    "    # Build HTML for each sentence\n",
    "    sentence_html_list = []\n",
    "    for tokens, weights in zip(tokenized_sentences, token_weights):\n",
    "        # Normalize weights to [0, 1]\n",
    "        weights = np.array(weights)\n",
    "        norm_weights = (weights - min(weights)) / (max(weights) - min(weights))\n",
    "        \n",
    "        # Convert weights to colors\n",
    "        colors = [matplotlib.colors.rgb2hex(cmap(w)) for w in norm_weights]\n",
    "\n",
    "        print(\"Tokens:\", tokens)\n",
    "        print(\"Weights:\", [round(w, 4) for w in weights])\n",
    "        \n",
    "        # Reconstruct the original sentence with token highlights\n",
    "        highlighted_sentence = \"\"\n",
    "        for i, token in enumerate(tokens):\n",
    "            # Remove prefix indicators (e.g., ## or Ġ) for natural appearance\n",
    "            if \"##\" in token or \"Ġ\" in token:\n",
    "                token = \" \" + token.replace(\"Ġ\", \"\")\n",
    "            if token in [\"<s>\", \"</s>\"]:\n",
    "                token = \"\"\n",
    "            color = colors[i]\n",
    "            highlighted_sentence += f'<span style=\"background-color:{color}; color:black; padding:0px; border-radius:3px; font-weight:bold;\">{token}</span>'\n",
    "        \n",
    "        # Append the highlighted sentence to the list\n",
    "        sentence_html_list.append(f\"<li>{highlighted_sentence.strip()}</li>\")\n",
    "    \n",
    "    # Combine all sentences into a single container with a white background\n",
    "    html_content = f\"\"\"\n",
    "    <div style='font-family:monospace; background-color:white; padding:10px;'>\n",
    "        <ul style='list-style-type:none; padding:1px; margin:1px;'>\n",
    "            {''.join(sentence_html_list)}\n",
    "        </ul>\n",
    "    </div>\n",
    "    \"\"\"\n",
    "    display(HTML(html_content))\n",
    "    return html_content\n",
    "\n",
    "\n",
    "def visualize_data_driven(sentences):\n",
    "    \"\"\"\n",
    "    sentences: list of strings\n",
    "    \"\"\"\n",
    "    tokenized_sentences_list = []\n",
    "    tokenized_weights_list = []\n",
    "\n",
    "    for sentence in sentences:\n",
    "        token_ids, tokens = tokenize(sentence)\n",
    "        tokenized_sentences_list.append(tokens)\n",
    "\n",
    "        log_weights = log_reweighting[token_ids]\n",
    "        weights = torch.exp(log_weights).squeeze().tolist()\n",
    "        tokenized_weights_list.append(weights)\n",
    "\n",
    "    visualize_sentences(tokenized_sentences_list, tokenized_weights_list)\n",
    "\n",
    "\n",
    "def visualize_user_driven(sentences, weights_list, sos_token=\"<s>\", eos_token=\"</s>\", default_weight=1.0):\n",
    "    \"\"\"\n",
    "    sentences: list of strings\n",
    "    weights: list of lists of floats\n",
    "    \"\"\"\n",
    "    tokenized_sentences_list = []\n",
    "    tokenized_weights_list = []\n",
    "\n",
    "    for sentence, weights in zip(sentences, weights_list):\n",
    "        words = sentence.split()\n",
    "        # Initialize tokenized sentence and weights\n",
    "        tokenized_sentence = []\n",
    "        tokenized_weights = []\n",
    "\n",
    "        # Add <SOS> token and its weight\n",
    "        tokenized_sentence.append(sos_token)\n",
    "        tokenized_weights.append(default_weight)\n",
    "\n",
    "        # Process each word and its weight\n",
    "        i = 0\n",
    "        for word, weight in zip(words, weights):\n",
    "            if i != 0:\n",
    "                word = \" \" + word\n",
    "            i += 1\n",
    "            # Tokenize the word into subwords\n",
    "            subwords = tokenize(word)[1][1:-1]\n",
    "\n",
    "            # Extend tokenized sentence and replicate the weight for each subword\n",
    "            tokenized_sentence.extend(subwords)\n",
    "            tokenized_weights.extend([weight] * len(subwords))\n",
    "\n",
    "        # Add <EOS> token and its weight\n",
    "        tokenized_sentence.append(eos_token)\n",
    "        tokenized_weights.append(default_weight)\n",
    "\n",
    "        tokenized_sentences_list.append(tokenized_sentence)\n",
    "        tokenized_weights_list.append(tokenized_weights)\n",
    "\n",
    "    visualize_sentences(tokenized_sentences_list, tokenized_weights_list)"
   ]
  },
  {
   "cell_type": "code",
   "execution_count": 34,
   "metadata": {},
   "outputs": [
    {
     "name": "stdout",
     "output_type": "stream",
     "text": [
      "Tokens: ['<s>', 'A', 'Ġdog', 'Ġbarking', 'Ġloudly', 'Ġin', 'Ġthe', 'Ġdistance', '.', '</s>']\n",
      "Weights: [1.0064, 0.9979, 0.9991, 1.0006, 1.0003, 0.9976, 0.9969, 0.9989, 0.9966, 1.005]\n",
      "Tokens: ['<s>', 'W', 'aves', 'Ġcrashing', 'Ġon', 'Ġa', 'Ġsandy', 'Ġbeach', '.', '</s>']\n",
      "Weights: [1.0064, 1.0013, 1.0008, 1.0006, 0.9996, 0.9955, 1.0005, 1.001, 0.9966, 1.005]\n",
      "Tokens: ['<s>', 'The', 'Ġsound', 'Ġof', 'Ġa', 'Ġticking', 'Ġclock', 'Ġin', 'Ġa', 'Ġquiet', 'Ġroom', '.', '</s>']\n",
      "Weights: [1.0064, 0.9984, 0.9982, 0.9991, 0.9955, 0.9998, 1.0007, 0.9976, 0.9955, 1.0, 0.9993, 0.9966, 1.005]\n",
      "Tokens: ['<s>', 'A', 'Ġbaby', 'Ġcrying', 'Ġsoftly', '.', '</s>']\n",
      "Weights: [1.0064, 0.9979, 1.002, 1.0016, 1.0005, 0.9966, 1.005]\n",
      "Tokens: ['<s>', 'Foot', 'steps', 'Ġechoing', 'Ġin', 'Ġan', 'Ġempty', 'Ġhallway', '.', '</s>']\n",
      "Weights: [1.0064, 1.0, 1.0003, 1.0005, 0.9976, 0.9994, 0.9995, 0.999, 0.9966, 1.005]\n",
      "Tokens: ['<s>', 'A', 'Ġtrain', 'Ġpassing', 'Ġby', 'Ġwith', 'Ġa', 'Ġloud', 'Ġhorn', '.', '</s>']\n",
      "Weights: [1.0064, 0.9979, 0.9978, 1.0018, 1.0009, 0.9978, 0.9955, 1.0014, 0.9982, 0.9966, 1.005]\n",
      "Tokens: ['<s>', 'B', 'irds', 'Ġch', 'ir', 'ping', 'Ġin', 'Ġthe', 'Ġearly', 'Ġmorning', '.', '</s>']\n",
      "Weights: [1.0064, 1.0012, 1.0008, 0.9999, 1.0003, 0.9996, 0.9976, 0.9969, 0.999, 1.0002, 0.9966, 1.005]\n",
      "Tokens: ['<s>', 'Rain', 'Ġfalling', 'Ġgently', 'Ġon', 'Ġa', 'Ġmetal', 'Ġroof', '.', '</s>']\n",
      "Weights: [1.0064, 0.9989, 0.9991, 1.0007, 0.9996, 0.9955, 1.0015, 0.9971, 0.9966, 1.005]\n",
      "Tokens: ['<s>', 'A', 'Ġdoor', 'Ġcre', 'aking', 'Ġas', 'Ġit', 'Ġslowly', 'Ġopens', '.', '</s>']\n",
      "Weights: [1.0064, 0.9979, 1.0011, 1.0012, 0.9993, 0.9987, 0.9989, 0.9998, 0.9987, 0.9966, 1.005]\n",
      "Tokens: ['<s>', 'The', 'Ġhum', 'Ġof', 'Ġan', 'Ġair', 'Ġcondition', 'er', 'Ġin', 'Ġthe', 'Ġbackground', '.', '</s>']\n",
      "Weights: [1.0064, 0.9984, 1.0007, 0.9991, 0.9994, 1.0008, 0.9996, 0.9998, 0.9976, 0.9969, 0.9994, 0.9966, 1.005]\n",
      "Tokens: ['<s>', 'A', 'Ġbustling', 'Ġcoffee', 'Ġshop', 'Ġfilled', 'Ġwith', 'Ġthe', 'Ġcl', 'inking', 'Ġof', 'Ġcups', ',', 'Ġfaint', 'Ġchatter', ',', 'Ġand', 'Ġa', 'Ġbar', 'ista', 'Ġste', 'aming', 'Ġmilk', '.', '</s>']\n",
      "Weights: [1.0064, 0.9979, 0.9997, 1.0003, 1.0, 0.9993, 0.9978, 0.9969, 0.9982, 1.0, 0.9991, 0.9998, 0.9978, 1.0, 0.9992, 0.9978, 0.9955, 0.9955, 1.001, 1.0, 1.0002, 1.0, 0.9997, 0.9966, 1.005]\n",
      "Tokens: ['<s>', 'The', 'Ġchaotic', 'Ġsound', 'Ġof', 'Ġtraffic', 'Ġduring', 'Ġrush', 'Ġhour', ',', 'Ġwith', 'Ġhon', 'king', 'Ġhorns', 'Ġand', 'Ġscree', 'ching', 'Ġbrakes', '.', '</s>']\n",
      "Weights: [1.0064, 0.9984, 1.0, 0.9982, 0.9991, 1.0022, 0.9997, 1.0006, 1.0003, 0.9978, 0.9978, 0.9983, 0.9989, 0.9992, 0.9955, 0.9992, 0.9999, 0.9988, 0.9966, 1.005]\n",
      "Tokens: ['<s>', 'A', 'Ġthunder', 'storm', 'Ġrolling', 'Ġin', ',', 'Ġwith', 'Ġdistant', 'Ġr', 'umbles', 'Ġof', 'Ġthunder', 'Ġfollowed', 'Ġby', 'Ġheavy', 'Ġrain', 'Ġhitting', 'Ġthe', 'Ġpavement', '.', '</s>']\n",
      "Weights: [1.0064, 0.9979, 1.0012, 1.0016, 1.0005, 0.9976, 0.9978, 0.9978, 0.9998, 1.0002, 0.9997, 0.9991, 1.0012, 1.0, 1.0009, 1.0014, 0.9978, 1.0001, 0.9969, 0.9994, 0.9966, 1.005]\n",
      "Tokens: ['<s>', 'The', 'Ġcrack', 'ling', 'Ġof', 'Ġa', 'Ġcamp', 'fire', ',', 'Ġaccompanied', 'Ġby', 'Ġoccasional', 'Ġpops', 'Ġand', 'Ġthe', 'Ġsoft', 'Ġrust', 'ling', 'Ġof', 'Ġleaves', 'Ġin', 'Ġthe', 'Ġwind', '.', '</s>']\n",
      "Weights: [1.0064, 0.9984, 1.0004, 0.9996, 0.9991, 0.9955, 1.0009, 1.0011, 0.9978, 1.0003, 1.0009, 1.0, 1.0008, 0.9955, 0.9969, 1.0005, 0.9999, 0.9996, 0.9991, 1.0004, 0.9976, 0.9969, 1.0032, 0.9966, 1.005]\n",
      "Tokens: ['<s>', 'An', 'Ġorchestra', 'Ġtuning', 'Ġtheir', 'Ġinstruments', ',', 'Ġcreating', 'Ġa', 'Ġmix', 'Ġof', 'Ġviol', 'ins', ',', 'Ġcell', 'os', ',', 'Ġand', 'Ġwind', 'Ġinstruments', '.', '</s>']\n",
      "Weights: [1.0064, 0.9997, 0.9988, 1.001, 0.9986, 1.0003, 0.9978, 0.9998, 0.9955, 1.0, 0.9991, 1.0006, 1.0001, 0.9978, 1.0, 1.0008, 0.9978, 0.9955, 1.0032, 1.0003, 0.9966, 1.005]\n",
      "Tokens: ['<s>', 'The', 'Ġsound', 'Ġof', 'Ġa', 'Ġcrowded', 'Ġmarket', ',', 'Ġvendors', 'Ġshouting', 'Ġprices', ',', 'Ġand', 'Ġshoppers', 'Ġbargaining', 'Ġamidst', 'Ġlaughter', '.', '</s>']\n",
      "Weights: [1.0064, 0.9984, 0.9982, 0.9991, 0.9955, 0.9999, 0.9989, 0.9978, 1.0, 1.0005, 1.0, 0.9978, 0.9955, 0.9997, 1.0, 1.0, 1.0004, 0.9966, 1.005]\n",
      "Tokens: ['<s>', 'A', 'Ġforest', 'Ġat', 'Ġnight', ',', 'Ġfilled', 'Ġwith', 'Ġcr', 'ickets', 'Ġch', 'ir', 'ping', ',', 'Ġow', 'ls', 'Ġh', 'ooting', ',', 'Ġand', 'Ġthe', 'Ġoccasional', 'Ġrust', 'le', 'Ġof', 'Ġleaves', '.', '</s>']\n",
      "Weights: [1.0064, 0.9979, 1.0005, 0.9986, 1.0004, 0.9978, 0.9993, 0.9978, 0.9993, 1.001, 0.9999, 1.0003, 0.9996, 0.9978, 0.9996, 0.9995, 0.9995, 0.9996, 0.9978, 0.9955, 0.9969, 1.0, 0.9999, 0.9994, 0.9991, 1.0004, 0.9966, 1.005]\n",
      "Tokens: ['<s>', 'The', 'Ġmuff', 'led', 'Ġsounds', 'Ġof', 'Ġmusic', 'Ġand', 'Ġlaughter', 'Ġcoming', 'Ġfrom', 'Ġa', 'Ġparty', 'Ġnext', 'Ġdoor', '.', '</s>']\n",
      "Weights: [1.0064, 0.9984, 0.9995, 0.999, 0.9998, 0.9991, 1.002, 0.9955, 1.0004, 0.9999, 1.0001, 0.9955, 0.9999, 1.001, 1.0011, 0.9966, 1.005]\n",
      "Tokens: ['<s>', 'A', 'Ġconstruction', 'Ġsite', 'Ġwith', 'Ġjack', 'ham', 'mers', ',', 'Ġdrilling', ',', 'Ġand', 'Ġthe', 'Ġbe', 'eping', 'Ġof', 'Ġreversing', 'Ġtrucks', '.', '</s>']\n",
      "Weights: [1.0064, 0.9979, 0.9993, 0.9989, 0.9978, 1.0011, 1.0, 1.0, 0.9978, 1.0015, 0.9978, 0.9955, 0.9969, 1.001, 1.0014, 0.9991, 1.0001, 0.9989, 0.9966, 1.005]\n",
      "Tokens: ['<s>', 'A', 'Ġsmall', 'Ġstream', 'Ġtrick', 'ling', 'Ġover', 'Ġrocks', ',', 'Ġwith', 'Ġbirds', 'Ġsoftly', 'Ġsinging', 'Ġin', 'Ġthe', 'Ġbackground', '.', '</s>']\n",
      "Weights: [1.0064, 0.9979, 0.9998, 1.0009, 1.0015, 0.9996, 0.9996, 0.9979, 0.9978, 0.9978, 1.0017, 1.0005, 1.0, 0.9976, 0.9969, 0.9994, 0.9966, 1.005]\n"
     ]
    },
    {
     "data": {
      "text/html": [
       "\n",
       "    <div style='font-family:monospace; background-color:white; padding:10px;'>\n",
       "        <ul style='list-style-type:none; padding:1px; margin:1px;'>\n",
       "            <li><span style=\"background-color:#7f0000; color:black; padding:0px; border-radius:3px; font-weight:bold;\"></span><span style=\"background-color:#fee6c4; color:black; padding:0px; border-radius:3px; font-weight:bold;\">A</span><span style=\"background-color:#fdd39d; color:black; padding:0px; border-radius:3px; font-weight:bold;\"> dog</span><span style=\"background-color:#fdad77; color:black; padding:0px; border-radius:3px; font-weight:bold;\"> barking</span><span style=\"background-color:#fdba83; color:black; padding:0px; border-radius:3px; font-weight:bold;\"> loudly</span><span style=\"background-color:#feeace; color:black; padding:0px; border-radius:3px; font-weight:bold;\"> in</span><span style=\"background-color:#fff4e5; color:black; padding:0px; border-radius:3px; font-weight:bold;\"> the</span><span style=\"background-color:#fdd6a3; color:black; padding:0px; border-radius:3px; font-weight:bold;\"> distance</span><span style=\"background-color:#fff7ec; color:black; padding:0px; border-radius:3px; font-weight:bold;\">.</span><span style=\"background-color:#b80604; color:black; padding:0px; border-radius:3px; font-weight:bold;\"></span></li><li><span style=\"background-color:#7f0000; color:black; padding:0px; border-radius:3px; font-weight:bold;\"></span><span style=\"background-color:#f98455; color:black; padding:0px; border-radius:3px; font-weight:bold;\">W</span><span style=\"background-color:#fc925e; color:black; padding:0px; border-radius:3px; font-weight:bold;\">aves</span><span style=\"background-color:#fc9863; color:black; padding:0px; border-radius:3px; font-weight:bold;\"> crashing</span><span style=\"background-color:#fdba83; color:black; padding:0px; border-radius:3px; font-weight:bold;\"> on</span><span style=\"background-color:#fff7ec; color:black; padding:0px; border-radius:3px; font-weight:bold;\"> a</span><span style=\"background-color:#fc9b66; color:black; padding:0px; border-radius:3px; font-weight:bold;\"> sandy</span><span style=\"background-color:#fc8c59; color:black; padding:0px; border-radius:3px; font-weight:bold;\"> beach</span><span style=\"background-color:#feebd0; color:black; padding:0px; border-radius:3px; font-weight:bold;\">.</span><span style=\"background-color:#b40201; color:black; padding:0px; border-radius:3px; font-weight:bold;\"></span></li><li><span style=\"background-color:#7f0000; color:black; padding:0px; border-radius:3px; font-weight:bold;\"></span><span style=\"background-color:#fdd19b; color:black; padding:0px; border-radius:3px; font-weight:bold;\">The</span><span style=\"background-color:#fdd49f; color:black; padding:0px; border-radius:3px; font-weight:bold;\"> sound</span><span style=\"background-color:#fdc48d; color:black; padding:0px; border-radius:3px; font-weight:bold;\"> of</span><span style=\"background-color:#fff7ec; color:black; padding:0px; border-radius:3px; font-weight:bold;\"> a</span><span style=\"background-color:#fdb57e; color:black; padding:0px; border-radius:3px; font-weight:bold;\"> ticking</span><span style=\"background-color:#fc9560; color:black; padding:0px; border-radius:3px; font-weight:bold;\"> clock</span><span style=\"background-color:#fdddb0; color:black; padding:0px; border-radius:3px; font-weight:bold;\"> in</span><span style=\"background-color:#fff7ec; color:black; padding:0px; border-radius:3px; font-weight:bold;\"> a</span><span style=\"background-color:#fdaf79; color:black; padding:0px; border-radius:3px; font-weight:bold;\"> quiet</span><span style=\"background-color:#fdc089; color:black; padding:0px; border-radius:3px; font-weight:bold;\"> room</span><span style=\"background-color:#feebd0; color:black; padding:0px; border-radius:3px; font-weight:bold;\">.</span><span style=\"background-color:#b40201; color:black; padding:0px; border-radius:3px; font-weight:bold;\"></span></li><li><span style=\"background-color:#7f0000; color:black; padding:0px; border-radius:3px; font-weight:bold;\"></span><span style=\"background-color:#fee6c4; color:black; padding:0px; border-radius:3px; font-weight:bold;\">A</span><span style=\"background-color:#f67c52; color:black; padding:0px; border-radius:3px; font-weight:bold;\"> baby</span><span style=\"background-color:#fb8a58; color:black; padding:0px; border-radius:3px; font-weight:bold;\"> crying</span><span style=\"background-color:#fdb27b; color:black; padding:0px; border-radius:3px; font-weight:bold;\"> softly</span><span style=\"background-color:#fff7ec; color:black; padding:0px; border-radius:3px; font-weight:bold;\">.</span><span style=\"background-color:#b80604; color:black; padding:0px; border-radius:3px; font-weight:bold;\"></span></li><li><span style=\"background-color:#7f0000; color:black; padding:0px; border-radius:3px; font-weight:bold;\"></span><span style=\"background-color:#fdc089; color:black; padding:0px; border-radius:3px; font-weight:bold;\">Foot</span><span style=\"background-color:#fdb982; color:black; padding:0px; border-radius:3px; font-weight:bold;\">steps</span><span style=\"background-color:#fdb27b; color:black; padding:0px; border-radius:3px; font-weight:bold;\"> echoing</span><span style=\"background-color:#feeace; color:black; padding:0px; border-radius:3px; font-weight:bold;\"> in</span><span style=\"background-color:#fdcc96; color:black; padding:0px; border-radius:3px; font-weight:bold;\"> an</span><span style=\"background-color:#fdcc96; color:black; padding:0px; border-radius:3px; font-weight:bold;\"> empty</span><span style=\"background-color:#fdd49f; color:black; padding:0px; border-radius:3px; font-weight:bold;\"> hallway</span><span style=\"background-color:#fff7ec; color:black; padding:0px; border-radius:3px; font-weight:bold;\">.</span><span style=\"background-color:#b80604; color:black; padding:0px; border-radius:3px; font-weight:bold;\"></span></li><li><span style=\"background-color:#7f0000; color:black; padding:0px; border-radius:3px; font-weight:bold;\"></span><span style=\"background-color:#fdd8a7; color:black; padding:0px; border-radius:3px; font-weight:bold;\">A</span><span style=\"background-color:#fddaab; color:black; padding:0px; border-radius:3px; font-weight:bold;\"> train</span><span style=\"background-color:#f4764f; color:black; padding:0px; border-radius:3px; font-weight:bold;\"> passing</span><span style=\"background-color:#fc8f5b; color:black; padding:0px; border-radius:3px; font-weight:bold;\"> by</span><span style=\"background-color:#fddbac; color:black; padding:0px; border-radius:3px; font-weight:bold;\"> with</span><span style=\"background-color:#fff7ec; color:black; padding:0px; border-radius:3px; font-weight:bold;\"> a</span><span style=\"background-color:#f88154; color:black; padding:0px; border-radius:3px; font-weight:bold;\"> loud</span><span style=\"background-color:#fdd49e; color:black; padding:0px; border-radius:3px; font-weight:bold;\"> horn</span><span style=\"background-color:#feebd0; color:black; padding:0px; border-radius:3px; font-weight:bold;\">.</span><span style=\"background-color:#b40201; color:black; padding:0px; border-radius:3px; font-weight:bold;\"></span></li><li><span style=\"background-color:#7f0000; color:black; padding:0px; border-radius:3px; font-weight:bold;\"></span><span style=\"background-color:#fc9964; color:black; padding:0px; border-radius:3px; font-weight:bold;\">B</span><span style=\"background-color:#fda671; color:black; padding:0px; border-radius:3px; font-weight:bold;\">irds</span><span style=\"background-color:#fdc38d; color:black; padding:0px; border-radius:3px; font-weight:bold;\"> ch</span><span style=\"background-color:#fdbb85; color:black; padding:0px; border-radius:3px; font-weight:bold;\">ir</span><span style=\"background-color:#fdca93; color:black; padding:0px; border-radius:3px; font-weight:bold;\">ping</span><span style=\"background-color:#feeace; color:black; padding:0px; border-radius:3px; font-weight:bold;\"> in</span><span style=\"background-color:#fff4e5; color:black; padding:0px; border-radius:3px; font-weight:bold;\"> the</span><span style=\"background-color:#fdd6a2; color:black; padding:0px; border-radius:3px; font-weight:bold;\"> early</span><span style=\"background-color:#fdbc85; color:black; padding:0px; border-radius:3px; font-weight:bold;\"> morning</span><span style=\"background-color:#fff7ec; color:black; padding:0px; border-radius:3px; font-weight:bold;\">.</span><span style=\"background-color:#b80604; color:black; padding:0px; border-radius:3px; font-weight:bold;\"></span></li><li><span style=\"background-color:#7f0000; color:black; padding:0px; border-radius:3px; font-weight:bold;\"></span><span style=\"background-color:#fdc992; color:black; padding:0px; border-radius:3px; font-weight:bold;\">Rain</span><span style=\"background-color:#fdc48d; color:black; padding:0px; border-radius:3px; font-weight:bold;\"> falling</span><span style=\"background-color:#fc9662; color:black; padding:0px; border-radius:3px; font-weight:bold;\"> gently</span><span style=\"background-color:#fdba83; color:black; padding:0px; border-radius:3px; font-weight:bold;\"> on</span><span style=\"background-color:#fff7ec; color:black; padding:0px; border-radius:3px; font-weight:bold;\"> a</span><span style=\"background-color:#f67c52; color:black; padding:0px; border-radius:3px; font-weight:bold;\"> metal</span><span style=\"background-color:#fee5c1; color:black; padding:0px; border-radius:3px; font-weight:bold;\"> roof</span><span style=\"background-color:#feebd0; color:black; padding:0px; border-radius:3px; font-weight:bold;\">.</span><span style=\"background-color:#b40201; color:black; padding:0px; border-radius:3px; font-weight:bold;\"></span></li><li><span style=\"background-color:#7f0000; color:black; padding:0px; border-radius:3px; font-weight:bold;\"></span><span style=\"background-color:#fee6c4; color:black; padding:0px; border-radius:3px; font-weight:bold;\">A</span><span style=\"background-color:#fc9c67; color:black; padding:0px; border-radius:3px; font-weight:bold;\"> door</span><span style=\"background-color:#fc9662; color:black; padding:0px; border-radius:3px; font-weight:bold;\"> cre</span><span style=\"background-color:#fdcf99; color:black; padding:0px; border-radius:3px; font-weight:bold;\">aking</span><span style=\"background-color:#fdd9aa; color:black; padding:0px; border-radius:3px; font-weight:bold;\"> as</span><span style=\"background-color:#fdd7a4; color:black; padding:0px; border-radius:3px; font-weight:bold;\"> it</span><span style=\"background-color:#fdc58e; color:black; padding:0px; border-radius:3px; font-weight:bold;\"> slowly</span><span style=\"background-color:#fddaab; color:black; padding:0px; border-radius:3px; font-weight:bold;\"> opens</span><span style=\"background-color:#fff7ec; color:black; padding:0px; border-radius:3px; font-weight:bold;\">.</span><span style=\"background-color:#b80604; color:black; padding:0px; border-radius:3px; font-weight:bold;\"></span></li><li><span style=\"background-color:#7f0000; color:black; padding:0px; border-radius:3px; font-weight:bold;\"></span><span style=\"background-color:#fedfb5; color:black; padding:0px; border-radius:3px; font-weight:bold;\">The</span><span style=\"background-color:#fdac76; color:black; padding:0px; border-radius:3px; font-weight:bold;\"> hum</span><span style=\"background-color:#fdd39d; color:black; padding:0px; border-radius:3px; font-weight:bold;\"> of</span><span style=\"background-color:#fdcc96; color:black; padding:0px; border-radius:3px; font-weight:bold;\"> an</span><span style=\"background-color:#fda872; color:black; padding:0px; border-radius:3px; font-weight:bold;\"> air</span><span style=\"background-color:#fdc992; color:black; padding:0px; border-radius:3px; font-weight:bold;\"> condition</span><span style=\"background-color:#fdc48d; color:black; padding:0px; border-radius:3px; font-weight:bold;\">er</span><span style=\"background-color:#feeace; color:black; padding:0px; border-radius:3px; font-weight:bold;\"> in</span><span style=\"background-color:#fff4e5; color:black; padding:0px; border-radius:3px; font-weight:bold;\"> the</span><span style=\"background-color:#fdcd96; color:black; padding:0px; border-radius:3px; font-weight:bold;\"> background</span><span style=\"background-color:#fff7ec; color:black; padding:0px; border-radius:3px; font-weight:bold;\">.</span><span style=\"background-color:#b80604; color:black; padding:0px; border-radius:3px; font-weight:bold;\"></span></li><li><span style=\"background-color:#7f0000; color:black; padding:0px; border-radius:3px; font-weight:bold;\"></span><span style=\"background-color:#fdd8a7; color:black; padding:0px; border-radius:3px; font-weight:bold;\">A</span><span style=\"background-color:#fdb67f; color:black; padding:0px; border-radius:3px; font-weight:bold;\"> bustling</span><span style=\"background-color:#fca26d; color:black; padding:0px; border-radius:3px; font-weight:bold;\"> coffee</span><span style=\"background-color:#fdac76; color:black; padding:0px; border-radius:3px; font-weight:bold;\"> shop</span><span style=\"background-color:#fdc089; color:black; padding:0px; border-radius:3px; font-weight:bold;\"> filled</span><span style=\"background-color:#fddbac; color:black; padding:0px; border-radius:3px; font-weight:bold;\"> with</span><span style=\"background-color:#fee8c9; color:black; padding:0px; border-radius:3px; font-weight:bold;\"> the</span><span style=\"background-color:#fdd5a0; color:black; padding:0px; border-radius:3px; font-weight:bold;\"> cl</span><span style=\"background-color:#fdad77; color:black; padding:0px; border-radius:3px; font-weight:bold;\">inking</span><span style=\"background-color:#fdc48d; color:black; padding:0px; border-radius:3px; font-weight:bold;\"> of</span><span style=\"background-color:#fdb67f; color:black; padding:0px; border-radius:3px; font-weight:bold;\"> cups</span><span style=\"background-color:#fddaab; color:black; padding:0px; border-radius:3px; font-weight:bold;\">,</span><span style=\"background-color:#fdaf79; color:black; padding:0px; border-radius:3px; font-weight:bold;\"> faint</span><span style=\"background-color:#fdc28b; color:black; padding:0px; border-radius:3px; font-weight:bold;\"> chatter</span><span style=\"background-color:#fddaab; color:black; padding:0px; border-radius:3px; font-weight:bold;\">,</span><span style=\"background-color:#fff7ec; color:black; padding:0px; border-radius:3px; font-weight:bold;\"> and</span><span style=\"background-color:#fff7ec; color:black; padding:0px; border-radius:3px; font-weight:bold;\"> a</span><span style=\"background-color:#fc8c59; color:black; padding:0px; border-radius:3px; font-weight:bold;\"> bar</span><span style=\"background-color:#fdad77; color:black; padding:0px; border-radius:3px; font-weight:bold;\">ista</span><span style=\"background-color:#fda872; color:black; padding:0px; border-radius:3px; font-weight:bold;\"> ste</span><span style=\"background-color:#fdad77; color:black; padding:0px; border-radius:3px; font-weight:bold;\">aming</span><span style=\"background-color:#fdb881; color:black; padding:0px; border-radius:3px; font-weight:bold;\"> milk</span><span style=\"background-color:#feebd0; color:black; padding:0px; border-radius:3px; font-weight:bold;\">.</span><span style=\"background-color:#b40201; color:black; padding:0px; border-radius:3px; font-weight:bold;\"></span></li><li><span style=\"background-color:#7f0000; color:black; padding:0px; border-radius:3px; font-weight:bold;\"></span><span style=\"background-color:#fdd29c; color:black; padding:0px; border-radius:3px; font-weight:bold;\">The</span><span style=\"background-color:#fdad77; color:black; padding:0px; border-radius:3px; font-weight:bold;\"> chaotic</span><span style=\"background-color:#fdd5a0; color:black; padding:0px; border-radius:3px; font-weight:bold;\"> sound</span><span style=\"background-color:#fdc48d; color:black; padding:0px; border-radius:3px; font-weight:bold;\"> of</span><span style=\"background-color:#f06849; color:black; padding:0px; border-radius:3px; font-weight:bold;\"> traffic</span><span style=\"background-color:#fdb881; color:black; padding:0px; border-radius:3px; font-weight:bold;\"> during</span><span style=\"background-color:#fc9964; color:black; padding:0px; border-radius:3px; font-weight:bold;\"> rush</span><span style=\"background-color:#fda56f; color:black; padding:0px; border-radius:3px; font-weight:bold;\"> hour</span><span style=\"background-color:#fddaab; color:black; padding:0px; border-radius:3px; font-weight:bold;\">,</span><span style=\"background-color:#fddbac; color:black; padding:0px; border-radius:3px; font-weight:bold;\"> with</span><span style=\"background-color:#fdd39d; color:black; padding:0px; border-radius:3px; font-weight:bold;\"> hon</span><span style=\"background-color:#fdc892; color:black; padding:0px; border-radius:3px; font-weight:bold;\">king</span><span style=\"background-color:#fdc28b; color:black; padding:0px; border-radius:3px; font-weight:bold;\"> horns</span><span style=\"background-color:#fff7ec; color:black; padding:0px; border-radius:3px; font-weight:bold;\"> and</span><span style=\"background-color:#fdc38c; color:black; padding:0px; border-radius:3px; font-weight:bold;\"> scree</span><span style=\"background-color:#fdb27b; color:black; padding:0px; border-radius:3px; font-weight:bold;\">ching</span><span style=\"background-color:#fdca94; color:black; padding:0px; border-radius:3px; font-weight:bold;\"> brakes</span><span style=\"background-color:#feecd1; color:black; padding:0px; border-radius:3px; font-weight:bold;\">.</span><span style=\"background-color:#b40201; color:black; padding:0px; border-radius:3px; font-weight:bold;\"></span></li><li><span style=\"background-color:#7f0000; color:black; padding:0px; border-radius:3px; font-weight:bold;\"></span><span style=\"background-color:#fee6c4; color:black; padding:0px; border-radius:3px; font-weight:bold;\">A</span><span style=\"background-color:#fc9662; color:black; padding:0px; border-radius:3px; font-weight:bold;\"> thunder</span><span style=\"background-color:#fb8a58; color:black; padding:0px; border-radius:3px; font-weight:bold;\">storm</span><span style=\"background-color:#fdb27b; color:black; padding:0px; border-radius:3px; font-weight:bold;\"> rolling</span><span style=\"background-color:#feeace; color:black; padding:0px; border-radius:3px; font-weight:bold;\"> in</span><span style=\"background-color:#fee8c8; color:black; padding:0px; border-radius:3px; font-weight:bold;\">,</span><span style=\"background-color:#fee8c9; color:black; padding:0px; border-radius:3px; font-weight:bold;\"> with</span><span style=\"background-color:#fdc68f; color:black; padding:0px; border-radius:3px; font-weight:bold;\"> distant</span><span style=\"background-color:#fdbc85; color:black; padding:0px; border-radius:3px; font-weight:bold;\"> r</span><span style=\"background-color:#fdc791; color:black; padding:0px; border-radius:3px; font-weight:bold;\">umbles</span><span style=\"background-color:#fdd39d; color:black; padding:0px; border-radius:3px; font-weight:bold;\"> of</span><span style=\"background-color:#fc9662; color:black; padding:0px; border-radius:3px; font-weight:bold;\"> thunder</span><span style=\"background-color:#fdc18a; color:black; padding:0px; border-radius:3px; font-weight:bold;\"> followed</span><span style=\"background-color:#fda56f; color:black; padding:0px; border-radius:3px; font-weight:bold;\"> by</span><span style=\"background-color:#fc925e; color:black; padding:0px; border-radius:3px; font-weight:bold;\"> heavy</span><span style=\"background-color:#fee8c9; color:black; padding:0px; border-radius:3px; font-weight:bold;\"> rain</span><span style=\"background-color:#fdbe87; color:black; padding:0px; border-radius:3px; font-weight:bold;\"> hitting</span><span style=\"background-color:#fff4e5; color:black; padding:0px; border-radius:3px; font-weight:bold;\"> the</span><span style=\"background-color:#fdcc96; color:black; padding:0px; border-radius:3px; font-weight:bold;\"> pavement</span><span style=\"background-color:#fff7ec; color:black; padding:0px; border-radius:3px; font-weight:bold;\">.</span><span style=\"background-color:#b80604; color:black; padding:0px; border-radius:3px; font-weight:bold;\"></span></li><li><span style=\"background-color:#7f0000; color:black; padding:0px; border-radius:3px; font-weight:bold;\"></span><span style=\"background-color:#fdd19b; color:black; padding:0px; border-radius:3px; font-weight:bold;\">The</span><span style=\"background-color:#fca06b; color:black; padding:0px; border-radius:3px; font-weight:bold;\"> crack</span><span style=\"background-color:#fdbb85; color:black; padding:0px; border-radius:3px; font-weight:bold;\">ling</span><span style=\"background-color:#fdc48d; color:black; padding:0px; border-radius:3px; font-weight:bold;\"> of</span><span style=\"background-color:#fff7ec; color:black; padding:0px; border-radius:3px; font-weight:bold;\"> a</span><span style=\"background-color:#fc8e5a; color:black; padding:0px; border-radius:3px; font-weight:bold;\"> camp</span><span style=\"background-color:#fb8a58; color:black; padding:0px; border-radius:3px; font-weight:bold;\">fire</span><span style=\"background-color:#fddaab; color:black; padding:0px; border-radius:3px; font-weight:bold;\">,</span><span style=\"background-color:#fca26d; color:black; padding:0px; border-radius:3px; font-weight:bold;\"> accompanied</span><span style=\"background-color:#fc8f5b; color:black; padding:0px; border-radius:3px; font-weight:bold;\"> by</span><span style=\"background-color:#fdaf79; color:black; padding:0px; border-radius:3px; font-weight:bold;\"> occasional</span><span style=\"background-color:#fc925e; color:black; padding:0px; border-radius:3px; font-weight:bold;\"> pops</span><span style=\"background-color:#fff7ec; color:black; padding:0px; border-radius:3px; font-weight:bold;\"> and</span><span style=\"background-color:#fee8c9; color:black; padding:0px; border-radius:3px; font-weight:bold;\"> the</span><span style=\"background-color:#fc9c67; color:black; padding:0px; border-radius:3px; font-weight:bold;\"> soft</span><span style=\"background-color:#fdaf79; color:black; padding:0px; border-radius:3px; font-weight:bold;\"> rust</span><span style=\"background-color:#fdbb85; color:black; padding:0px; border-radius:3px; font-weight:bold;\">ling</span><span style=\"background-color:#fdc48d; color:black; padding:0px; border-radius:3px; font-weight:bold;\"> of</span><span style=\"background-color:#fc9f6a; color:black; padding:0px; border-radius:3px; font-weight:bold;\"> leaves</span><span style=\"background-color:#fdddb0; color:black; padding:0px; border-radius:3px; font-weight:bold;\"> in</span><span style=\"background-color:#fee8c9; color:black; padding:0px; border-radius:3px; font-weight:bold;\"> the</span><span style=\"background-color:#df412c; color:black; padding:0px; border-radius:3px; font-weight:bold;\"> wind</span><span style=\"background-color:#feebd0; color:black; padding:0px; border-radius:3px; font-weight:bold;\">.</span><span style=\"background-color:#b40201; color:black; padding:0px; border-radius:3px; font-weight:bold;\"></span></li><li><span style=\"background-color:#7f0000; color:black; padding:0px; border-radius:3px; font-weight:bold;\"></span><span style=\"background-color:#fdb67f; color:black; padding:0px; border-radius:3px; font-weight:bold;\">An</span><span style=\"background-color:#fdca94; color:black; padding:0px; border-radius:3px; font-weight:bold;\"> orchestra</span><span style=\"background-color:#fc8c59; color:black; padding:0px; border-radius:3px; font-weight:bold;\"> tuning</span><span style=\"background-color:#fdcd96; color:black; padding:0px; border-radius:3px; font-weight:bold;\"> their</span><span style=\"background-color:#fca36e; color:black; padding:0px; border-radius:3px; font-weight:bold;\"> instruments</span><span style=\"background-color:#fddaab; color:black; padding:0px; border-radius:3px; font-weight:bold;\">,</span><span style=\"background-color:#fdb37d; color:black; padding:0px; border-radius:3px; font-weight:bold;\"> creating</span><span style=\"background-color:#fff7ec; color:black; padding:0px; border-radius:3px; font-weight:bold;\"> a</span><span style=\"background-color:#fdad77; color:black; padding:0px; border-radius:3px; font-weight:bold;\"> mix</span><span style=\"background-color:#fdc48d; color:black; padding:0px; border-radius:3px; font-weight:bold;\"> of</span><span style=\"background-color:#fc9964; color:black; padding:0px; border-radius:3px; font-weight:bold;\"> viol</span><span style=\"background-color:#fda872; color:black; padding:0px; border-radius:3px; font-weight:bold;\">ins</span><span style=\"background-color:#fddaab; color:black; padding:0px; border-radius:3px; font-weight:bold;\">,</span><span style=\"background-color:#fdad77; color:black; padding:0px; border-radius:3px; font-weight:bold;\"> cell</span><span style=\"background-color:#fc935f; color:black; padding:0px; border-radius:3px; font-weight:bold;\">os</span><span style=\"background-color:#fddaab; color:black; padding:0px; border-radius:3px; font-weight:bold;\">,</span><span style=\"background-color:#fff7ec; color:black; padding:0px; border-radius:3px; font-weight:bold;\"> and</span><span style=\"background-color:#df412c; color:black; padding:0px; border-radius:3px; font-weight:bold;\"> wind</span><span style=\"background-color:#fca36e; color:black; padding:0px; border-radius:3px; font-weight:bold;\"> instruments</span><span style=\"background-color:#feebd0; color:black; padding:0px; border-radius:3px; font-weight:bold;\">.</span><span style=\"background-color:#b40201; color:black; padding:0px; border-radius:3px; font-weight:bold;\"></span></li><li><span style=\"background-color:#7f0000; color:black; padding:0px; border-radius:3px; font-weight:bold;\"></span><span style=\"background-color:#fdd19b; color:black; padding:0px; border-radius:3px; font-weight:bold;\">The</span><span style=\"background-color:#fdd49f; color:black; padding:0px; border-radius:3px; font-weight:bold;\"> sound</span><span style=\"background-color:#fdc48d; color:black; padding:0px; border-radius:3px; font-weight:bold;\"> of</span><span style=\"background-color:#fff7ec; color:black; padding:0px; border-radius:3px; font-weight:bold;\"> a</span><span style=\"background-color:#fdb07a; color:black; padding:0px; border-radius:3px; font-weight:bold;\"> crowded</span><span style=\"background-color:#fdc892; color:black; padding:0px; border-radius:3px; font-weight:bold;\"> market</span><span style=\"background-color:#fddaab; color:black; padding:0px; border-radius:3px; font-weight:bold;\">,</span><span style=\"background-color:#fdad77; color:black; padding:0px; border-radius:3px; font-weight:bold;\"> vendors</span><span style=\"background-color:#fc9c67; color:black; padding:0px; border-radius:3px; font-weight:bold;\"> shouting</span><span style=\"background-color:#fdad77; color:black; padding:0px; border-radius:3px; font-weight:bold;\"> prices</span><span style=\"background-color:#fddaab; color:black; padding:0px; border-radius:3px; font-weight:bold;\">,</span><span style=\"background-color:#fff7ec; color:black; padding:0px; border-radius:3px; font-weight:bold;\"> and</span><span style=\"background-color:#fdb982; color:black; padding:0px; border-radius:3px; font-weight:bold;\"> shoppers</span><span style=\"background-color:#fdad77; color:black; padding:0px; border-radius:3px; font-weight:bold;\"> bargaining</span><span style=\"background-color:#fdad77; color:black; padding:0px; border-radius:3px; font-weight:bold;\"> amidst</span><span style=\"background-color:#fc9e69; color:black; padding:0px; border-radius:3px; font-weight:bold;\"> laughter</span><span style=\"background-color:#feebd0; color:black; padding:0px; border-radius:3px; font-weight:bold;\">.</span><span style=\"background-color:#b40201; color:black; padding:0px; border-radius:3px; font-weight:bold;\"></span></li><li><span style=\"background-color:#7f0000; color:black; padding:0px; border-radius:3px; font-weight:bold;\"></span><span style=\"background-color:#fdd9a8; color:black; padding:0px; border-radius:3px; font-weight:bold;\">A</span><span style=\"background-color:#fc9e69; color:black; padding:0px; border-radius:3px; font-weight:bold;\"> forest</span><span style=\"background-color:#fdce97; color:black; padding:0px; border-radius:3px; font-weight:bold;\"> at</span><span style=\"background-color:#fca26d; color:black; padding:0px; border-radius:3px; font-weight:bold;\"> night</span><span style=\"background-color:#fddaab; color:black; padding:0px; border-radius:3px; font-weight:bold;\">,</span><span style=\"background-color:#fdc089; color:black; padding:0px; border-radius:3px; font-weight:bold;\"> filled</span><span style=\"background-color:#fddbac; color:black; padding:0px; border-radius:3px; font-weight:bold;\"> with</span><span style=\"background-color:#fdc089; color:black; padding:0px; border-radius:3px; font-weight:bold;\"> cr</span><span style=\"background-color:#fb8b58; color:black; padding:0px; border-radius:3px; font-weight:bold;\">ickets</span><span style=\"background-color:#fdb37d; color:black; padding:0px; border-radius:3px; font-weight:bold;\"> ch</span><span style=\"background-color:#fda56f; color:black; padding:0px; border-radius:3px; font-weight:bold;\">ir</span><span style=\"background-color:#fdbb85; color:black; padding:0px; border-radius:3px; font-weight:bold;\">ping</span><span style=\"background-color:#fddaab; color:black; padding:0px; border-radius:3px; font-weight:bold;\">,</span><span style=\"background-color:#fdbb85; color:black; padding:0px; border-radius:3px; font-weight:bold;\"> ow</span><span style=\"background-color:#fdbd86; color:black; padding:0px; border-radius:3px; font-weight:bold;\">ls</span><span style=\"background-color:#fdbd86; color:black; padding:0px; border-radius:3px; font-weight:bold;\"> h</span><span style=\"background-color:#fdbb85; color:black; padding:0px; border-radius:3px; font-weight:bold;\">ooting</span><span style=\"background-color:#fddaab; color:black; padding:0px; border-radius:3px; font-weight:bold;\">,</span><span style=\"background-color:#fff7ec; color:black; padding:0px; border-radius:3px; font-weight:bold;\"> and</span><span style=\"background-color:#fee8c9; color:black; padding:0px; border-radius:3px; font-weight:bold;\"> the</span><span style=\"background-color:#fdaf79; color:black; padding:0px; border-radius:3px; font-weight:bold;\"> occasional</span><span style=\"background-color:#fdb07a; color:black; padding:0px; border-radius:3px; font-weight:bold;\"> rust</span><span style=\"background-color:#fdbf88; color:black; padding:0px; border-radius:3px; font-weight:bold;\">le</span><span style=\"background-color:#fdc48d; color:black; padding:0px; border-radius:3px; font-weight:bold;\"> of</span><span style=\"background-color:#fc9f6a; color:black; padding:0px; border-radius:3px; font-weight:bold;\"> leaves</span><span style=\"background-color:#feecd1; color:black; padding:0px; border-radius:3px; font-weight:bold;\">.</span><span style=\"background-color:#b40201; color:black; padding:0px; border-radius:3px; font-weight:bold;\"></span></li><li><span style=\"background-color:#7f0000; color:black; padding:0px; border-radius:3px; font-weight:bold;\"></span><span style=\"background-color:#fdd19b; color:black; padding:0px; border-radius:3px; font-weight:bold;\">The</span><span style=\"background-color:#fdbd86; color:black; padding:0px; border-radius:3px; font-weight:bold;\"> muff</span><span style=\"background-color:#fdc68f; color:black; padding:0px; border-radius:3px; font-weight:bold;\">led</span><span style=\"background-color:#fdb57e; color:black; padding:0px; border-radius:3px; font-weight:bold;\"> sounds</span><span style=\"background-color:#fdc48d; color:black; padding:0px; border-radius:3px; font-weight:bold;\"> of</span><span style=\"background-color:#f26d4b; color:black; padding:0px; border-radius:3px; font-weight:bold;\"> music</span><span style=\"background-color:#fff7ec; color:black; padding:0px; border-radius:3px; font-weight:bold;\"> and</span><span style=\"background-color:#fc9e69; color:black; padding:0px; border-radius:3px; font-weight:bold;\"> laughter</span><span style=\"background-color:#fdb07a; color:black; padding:0px; border-radius:3px; font-weight:bold;\"> coming</span><span style=\"background-color:#fdab75; color:black; padding:0px; border-radius:3px; font-weight:bold;\"> from</span><span style=\"background-color:#fff7ec; color:black; padding:0px; border-radius:3px; font-weight:bold;\"> a</span><span style=\"background-color:#fdb27b; color:black; padding:0px; border-radius:3px; font-weight:bold;\"> party</span><span style=\"background-color:#fc8c59; color:black; padding:0px; border-radius:3px; font-weight:bold;\"> next</span><span style=\"background-color:#fb8a58; color:black; padding:0px; border-radius:3px; font-weight:bold;\"> door</span><span style=\"background-color:#feebd0; color:black; padding:0px; border-radius:3px; font-weight:bold;\">.</span><span style=\"background-color:#b40201; color:black; padding:0px; border-radius:3px; font-weight:bold;\"></span></li><li><span style=\"background-color:#7f0000; color:black; padding:0px; border-radius:3px; font-weight:bold;\"></span><span style=\"background-color:#fdd9a8; color:black; padding:0px; border-radius:3px; font-weight:bold;\">A</span><span style=\"background-color:#fdc28b; color:black; padding:0px; border-radius:3px; font-weight:bold;\"> construction</span><span style=\"background-color:#fdc892; color:black; padding:0px; border-radius:3px; font-weight:bold;\"> site</span><span style=\"background-color:#fddbac; color:black; padding:0px; border-radius:3px; font-weight:bold;\"> with</span><span style=\"background-color:#fa8757; color:black; padding:0px; border-radius:3px; font-weight:bold;\"> jack</span><span style=\"background-color:#fdad77; color:black; padding:0px; border-radius:3px; font-weight:bold;\">ham</span><span style=\"background-color:#fdad77; color:black; padding:0px; border-radius:3px; font-weight:bold;\">mers</span><span style=\"background-color:#fddaab; color:black; padding:0px; border-radius:3px; font-weight:bold;\">,</span><span style=\"background-color:#f77d52; color:black; padding:0px; border-radius:3px; font-weight:bold;\"> drilling</span><span style=\"background-color:#fddaab; color:black; padding:0px; border-radius:3px; font-weight:bold;\">,</span><span style=\"background-color:#fff7ec; color:black; padding:0px; border-radius:3px; font-weight:bold;\"> and</span><span style=\"background-color:#fee8c9; color:black; padding:0px; border-radius:3px; font-weight:bold;\"> the</span><span style=\"background-color:#fc8c59; color:black; padding:0px; border-radius:3px; font-weight:bold;\"> be</span><span style=\"background-color:#f88053; color:black; padding:0px; border-radius:3px; font-weight:bold;\">eping</span><span style=\"background-color:#fdc48d; color:black; padding:0px; border-radius:3px; font-weight:bold;\"> of</span><span style=\"background-color:#fdac76; color:black; padding:0px; border-radius:3px; font-weight:bold;\"> reversing</span><span style=\"background-color:#fdc892; color:black; padding:0px; border-radius:3px; font-weight:bold;\"> trucks</span><span style=\"background-color:#feecd1; color:black; padding:0px; border-radius:3px; font-weight:bold;\">.</span><span style=\"background-color:#b40201; color:black; padding:0px; border-radius:3px; font-weight:bold;\"></span></li><li><span style=\"background-color:#7f0000; color:black; padding:0px; border-radius:3px; font-weight:bold;\"></span><span style=\"background-color:#fee6c4; color:black; padding:0px; border-radius:3px; font-weight:bold;\">A</span><span style=\"background-color:#fdc68f; color:black; padding:0px; border-radius:3px; font-weight:bold;\"> small</span><span style=\"background-color:#fca36e; color:black; padding:0px; border-radius:3px; font-weight:bold;\"> stream</span><span style=\"background-color:#fc8c59; color:black; padding:0px; border-radius:3px; font-weight:bold;\"> trick</span><span style=\"background-color:#fdca93; color:black; padding:0px; border-radius:3px; font-weight:bold;\">ling</span><span style=\"background-color:#fdca93; color:black; padding:0px; border-radius:3px; font-weight:bold;\"> over</span><span style=\"background-color:#fee7c5; color:black; padding:0px; border-radius:3px; font-weight:bold;\"> rocks</span><span style=\"background-color:#fee8c8; color:black; padding:0px; border-radius:3px; font-weight:bold;\">,</span><span style=\"background-color:#fee8c9; color:black; padding:0px; border-radius:3px; font-weight:bold;\"> with</span><span style=\"background-color:#fa8757; color:black; padding:0px; border-radius:3px; font-weight:bold;\"> birds</span><span style=\"background-color:#fdb27b; color:black; padding:0px; border-radius:3px; font-weight:bold;\"> softly</span><span style=\"background-color:#fdc18a; color:black; padding:0px; border-radius:3px; font-weight:bold;\"> singing</span><span style=\"background-color:#feeace; color:black; padding:0px; border-radius:3px; font-weight:bold;\"> in</span><span style=\"background-color:#fff4e5; color:black; padding:0px; border-radius:3px; font-weight:bold;\"> the</span><span style=\"background-color:#fdcd96; color:black; padding:0px; border-radius:3px; font-weight:bold;\"> background</span><span style=\"background-color:#fff7ec; color:black; padding:0px; border-radius:3px; font-weight:bold;\">.</span><span style=\"background-color:#b80604; color:black; padding:0px; border-radius:3px; font-weight:bold;\"></span></li>\n",
       "        </ul>\n",
       "    </div>\n",
       "    "
      ],
      "text/plain": [
       "<IPython.core.display.HTML object>"
      ]
     },
     "metadata": {},
     "output_type": "display_data"
    },
    {
     "name": "stdout",
     "output_type": "stream",
     "text": [
      "Tokens: ['<s>', 'This', 'Ġis', 'Ġa', 'Ġtest', 'tt', 't', '</s>']\n",
      "Weights: [1.0, 0.1, 0.2, 0.8, 0.3, 0.3, 0.3, 1.0]\n"
     ]
    },
    {
     "data": {
      "text/html": [
       "\n",
       "    <div style='font-family:monospace; background-color:white; padding:10px;'>\n",
       "        <ul style='list-style-type:none; padding:1px; margin:1px;'>\n",
       "            <li><span style=\"background-color:#7f0000; color:black; padding:0px; border-radius:3px; font-weight:bold;\"></span><span style=\"background-color:#fff7ec; color:black; padding:0px; border-radius:3px; font-weight:bold;\">This</span><span style=\"background-color:#feeacc; color:black; padding:0px; border-radius:3px; font-weight:bold;\"> is</span><span style=\"background-color:#ce2417; color:black; padding:0px; border-radius:3px; font-weight:bold;\"> a</span><span style=\"background-color:#fdd9a8; color:black; padding:0px; border-radius:3px; font-weight:bold;\"> test</span><span style=\"background-color:#fdd9a8; color:black; padding:0px; border-radius:3px; font-weight:bold;\">tt</span><span style=\"background-color:#fdd9a8; color:black; padding:0px; border-radius:3px; font-weight:bold;\">t</span><span style=\"background-color:#7f0000; color:black; padding:0px; border-radius:3px; font-weight:bold;\"></span></li>\n",
       "        </ul>\n",
       "    </div>\n",
       "    "
      ],
      "text/plain": [
       "<IPython.core.display.HTML object>"
      ]
     },
     "metadata": {},
     "output_type": "display_data"
    }
   ],
   "source": [
    "sentences = [\n",
    "    \"A dog barking loudly in the distance.\",\n",
    "    \"Waves crashing on a sandy beach.\",\n",
    "    \"The sound of a ticking clock in a quiet room.\",\n",
    "    \"A baby crying softly.\",\n",
    "    \"Footsteps echoing in an empty hallway.\",\n",
    "    \"A train passing by with a loud horn.\",\n",
    "    \"Birds chirping in the early morning.\",\n",
    "    \"Rain falling gently on a metal roof.\",\n",
    "    \"A door creaking as it slowly opens.\",\n",
    "    \"The hum of an air conditioner in the background.\",\n",
    "    \"A bustling coffee shop filled with the clinking of cups, faint chatter, and a barista steaming milk.\",\n",
    "    \"The chaotic sound of traffic during rush hour, with honking horns and screeching brakes.\",\n",
    "    \"A thunderstorm rolling in, with distant rumbles of thunder followed by heavy rain hitting the pavement.\",\n",
    "    \"The crackling of a campfire, accompanied by occasional pops and the soft rustling of leaves in the wind.\",\n",
    "    \"An orchestra tuning their instruments, creating a mix of violins, cellos, and wind instruments.\",\n",
    "    \"The sound of a crowded market, vendors shouting prices, and shoppers bargaining amidst laughter.\",\n",
    "    \"A forest at night, filled with crickets chirping, owls hooting, and the occasional rustle of leaves.\",\n",
    "    \"The muffled sounds of music and laughter coming from a party next door.\",\n",
    "    \"A construction site with jackhammers, drilling, and the beeping of reversing trucks.\",\n",
    "    \"A small stream trickling over rocks, with birds softly singing in the background.\",\n",
    "    # \"The sound of rain slowly intensifies, as if the sky itself is exhaling deeply.\",\n",
    "    # \"A distant carnival, where laughter, music, and machinery mix into a surreal hum.\",\n",
    "    # \"In a forest clearing, the breeze rustles leaves while an unseen bird calls out.\",\n",
    "    # \"The muffled sound of footsteps on snow, accompanied by deep breaths in cold air.\",\n",
    "    # \"An old vinyl record crackling and popping as it spins on a dusty player.\",\n",
    "    # \"A lone car engine idling at a red light, with faint music seeping from its windows.\",\n",
    "    # \"The rhythmic creak of a rocking chair in an otherwise silent room.\",\n",
    "    # \"An empty train station where faint echoes suggest movement that isn't there.\",\n",
    "    # \"The distant roar of waves, softened by the thick fog rolling in from the ocean.\",\n",
    "    # \"The metallic clang of tools being dropped, followed by a muttered voice and silence.\",\n",
    "]\n",
    "\n",
    "\n",
    "visualize_data_driven(sentences)\n",
    "\n",
    "\n",
    "sentences = [\"This is a testttt\"]\n",
    "weights = [[0.1, 0.2, 0.8, 0.3]]\n",
    "\n",
    "visualize_user_driven(sentences, weights)"
   ]
  },
  {
   "cell_type": "code",
   "execution_count": 35,
   "metadata": {},
   "outputs": [
    {
     "name": "stdout",
     "output_type": "stream",
     "text": [
      "Tokens: ['<s>', 'Someone', 'Ġrub', 's', 'Ġmetal', 'Ġagainst', 'Ġa', 'Ġhard', 'Ġsurface', '</s>']\n",
      "Weights: [1.0064, 1.0011, 0.9988, 1.0001, 1.0015, 1.0003, 0.9955, 1.0, 0.9993, 1.005]\n",
      "Tokens: ['<s>', 'A', 'Ġhelicopter', 'Ġengine', 'Ġnoise', 'Ġgets', 'Ġcloser', 'Ġthan', 'Ġpasses', 'Ġby', '</s>']\n",
      "Weights: [1.0064, 0.9979, 1.0006, 1.0039, 1.0005, 0.9984, 1.0003, 0.9998, 1.0011, 1.0009, 1.005]\n",
      "Tokens: ['<s>', 'Someone', 'Ġsn', 'ores', 'Ġwhile', 'Ġsleeping', '</s>']\n",
      "Weights: [1.0064, 1.0011, 1.0003, 1.0008, 0.9977, 0.9993, 1.005]\n",
      "Tokens: ['<s>', 'A', 'Ġcar', 'Ġspeeding', 'Ġup', 'Ġin', 'Ġthe', 'Ġdistance', '</s>']\n",
      "Weights: [1.0064, 0.9979, 1.0001, 0.9998, 0.9991, 0.9976, 0.9969, 0.9989, 1.005]\n",
      "Tokens: ['<s>', 'D', 'ishes', 'Ġcling', 'Ġtogether', 'Ġthen', 'Ġa', 'Ġman', 'Ġbegins', 'Ġto', 'Ġspeak', '</s>']\n",
      "Weights: [1.0064, 0.999, 0.9991, 0.9999, 0.9997, 0.9985, 0.9955, 0.9974, 0.9994, 0.9988, 0.9985, 1.005]\n",
      "Tokens: ['<s>', 'A', 'Ġchunk', 'Ġof', 'Ġwood', 'Ġis', 'Ġbeing', 'Ġsaw', 'ed', 'Ġthrough', 'Ġwith', 'Ġa', 'Ġsaw', '</s>']\n",
      "Weights: [1.0064, 0.9979, 1.0, 0.9991, 1.0009, 0.9976, 1.0001, 1.0011, 0.9997, 1.0003, 0.9978, 0.9955, 1.0011, 1.005]\n",
      "Tokens: ['<s>', 'Someone', 'Ġwhist', 'les', 'Ġa', 'Ġsong', '</s>']\n",
      "Weights: [1.0064, 1.0011, 1.0019, 0.9999, 0.9955, 1.0007, 1.005]\n",
      "Tokens: ['<s>', 'Veh', 'icle', 'Ġtires', 'Ġscree', 'ch', 'Ġand', 'Ġa', 'Ġman', 'Ġspeaks', 'Ġbefore', 'Ġa', 'Ġcar', 'Ġdoor', 'Ġopens', '</s>']\n",
      "Weights: [1.0064, 1.0004, 1.0, 1.0008, 0.9992, 1.0001, 0.9955, 0.9955, 0.9974, 0.9999, 0.9987, 0.9955, 1.0001, 1.0011, 0.9987, 1.005]\n",
      "Tokens: ['<s>', 'The', 'Ġr', 'umbling', 'Ġof', 'Ġa', 'Ġbus', 'Ġfollowed', 'Ġby', 'Ġa', 'Ġsoft', 'Ġmale', 'Ġvoice', '</s>']\n",
      "Weights: [1.0064, 0.9984, 1.0002, 0.9996, 0.9991, 0.9955, 1.0004, 1.0, 1.0009, 0.9955, 1.0005, 0.9992, 0.9997, 1.005]\n",
      "Tokens: ['<s>', 'A', 'Ġkid', 'Ġspeaks', 'Ġfollowed', 'Ġby', 'Ġmusic', 'Ġplaying', '</s>']\n",
      "Weights: [1.0064, 0.9979, 0.9991, 0.9999, 1.0, 1.0009, 1.002, 1.0016, 1.005]\n"
     ]
    },
    {
     "data": {
      "text/html": [
       "\n",
       "    <div style='font-family:monospace; background-color:white; padding:10px;'>\n",
       "        <ul style='list-style-type:none; padding:1px; margin:1px;'>\n",
       "            <li><span style=\"background-color:#7f0000; color:black; padding:0px; border-radius:3px; font-weight:bold;\"></span><span style=\"background-color:#fa8757; color:black; padding:0px; border-radius:3px; font-weight:bold;\">Someone</span><span style=\"background-color:#fdca94; color:black; padding:0px; border-radius:3px; font-weight:bold;\"> rub</span><span style=\"background-color:#fda973; color:black; padding:0px; border-radius:3px; font-weight:bold;\">s</span><span style=\"background-color:#f67c52; color:black; padding:0px; border-radius:3px; font-weight:bold;\"> metal</span><span style=\"background-color:#fca26d; color:black; padding:0px; border-radius:3px; font-weight:bold;\"> against</span><span style=\"background-color:#fff7ec; color:black; padding:0px; border-radius:3px; font-weight:bold;\"> a</span><span style=\"background-color:#fdac76; color:black; padding:0px; border-radius:3px; font-weight:bold;\"> hard</span><span style=\"background-color:#fdc089; color:black; padding:0px; border-radius:3px; font-weight:bold;\"> surface</span><span style=\"background-color:#b40201; color:black; padding:0px; border-radius:3px; font-weight:bold;\"></span></li><li><span style=\"background-color:#7f0000; color:black; padding:0px; border-radius:3px; font-weight:bold;\"></span><span style=\"background-color:#fff7ec; color:black; padding:0px; border-radius:3px; font-weight:bold;\">A</span><span style=\"background-color:#fdc992; color:black; padding:0px; border-radius:3px; font-weight:bold;\"> helicopter</span><span style=\"background-color:#e0442f; color:black; padding:0px; border-radius:3px; font-weight:bold;\"> engine</span><span style=\"background-color:#fdca93; color:black; padding:0px; border-radius:3px; font-weight:bold;\"> noise</span><span style=\"background-color:#fff0dc; color:black; padding:0px; border-radius:3px; font-weight:bold;\"> gets</span><span style=\"background-color:#fdd09a; color:black; padding:0px; border-radius:3px; font-weight:bold;\"> closer</span><span style=\"background-color:#fdd8a7; color:black; padding:0px; border-radius:3px; font-weight:bold;\"> than</span><span style=\"background-color:#fdba83; color:black; padding:0px; border-radius:3px; font-weight:bold;\"> passes</span><span style=\"background-color:#fdc18a; color:black; padding:0px; border-radius:3px; font-weight:bold;\"> by</span><span style=\"background-color:#be0f0a; color:black; padding:0px; border-radius:3px; font-weight:bold;\"></span></li><li><span style=\"background-color:#7f0000; color:black; padding:0px; border-radius:3px; font-weight:bold;\"></span><span style=\"background-color:#fdb37d; color:black; padding:0px; border-radius:3px; font-weight:bold;\">Someone</span><span style=\"background-color:#fdc992; color:black; padding:0px; border-radius:3px; font-weight:bold;\"> sn</span><span style=\"background-color:#fdbf88; color:black; padding:0px; border-radius:3px; font-weight:bold;\">ores</span><span style=\"background-color:#fff7ec; color:black; padding:0px; border-radius:3px; font-weight:bold;\"> while</span><span style=\"background-color:#fedfb4; color:black; padding:0px; border-radius:3px; font-weight:bold;\"> sleeping</span><span style=\"background-color:#bd0e09; color:black; padding:0px; border-radius:3px; font-weight:bold;\"></span></li><li><span style=\"background-color:#7f0000; color:black; padding:0px; border-radius:3px; font-weight:bold;\"></span><span style=\"background-color:#fee9cb; color:black; padding:0px; border-radius:3px; font-weight:bold;\">A</span><span style=\"background-color:#fdc28b; color:black; padding:0px; border-radius:3px; font-weight:bold;\"> car</span><span style=\"background-color:#fdc992; color:black; padding:0px; border-radius:3px; font-weight:bold;\"> speeding</span><span style=\"background-color:#fdd7a4; color:black; padding:0px; border-radius:3px; font-weight:bold;\"> up</span><span style=\"background-color:#feedd4; color:black; padding:0px; border-radius:3px; font-weight:bold;\"> in</span><span style=\"background-color:#fff7ec; color:black; padding:0px; border-radius:3px; font-weight:bold;\"> the</span><span style=\"background-color:#fddaab; color:black; padding:0px; border-radius:3px; font-weight:bold;\"> distance</span><span style=\"background-color:#b90805; color:black; padding:0px; border-radius:3px; font-weight:bold;\"></span></li><li><span style=\"background-color:#7f0000; color:black; padding:0px; border-radius:3px; font-weight:bold;\"></span><span style=\"background-color:#fdc68f; color:black; padding:0px; border-radius:3px; font-weight:bold;\">D</span><span style=\"background-color:#fdc48d; color:black; padding:0px; border-radius:3px; font-weight:bold;\">ishes</span><span style=\"background-color:#fdb27b; color:black; padding:0px; border-radius:3px; font-weight:bold;\"> cling</span><span style=\"background-color:#fdb881; color:black; padding:0px; border-radius:3px; font-weight:bold;\"> together</span><span style=\"background-color:#fdd09a; color:black; padding:0px; border-radius:3px; font-weight:bold;\"> then</span><span style=\"background-color:#fff7ec; color:black; padding:0px; border-radius:3px; font-weight:bold;\"> a</span><span style=\"background-color:#fee0b7; color:black; padding:0px; border-radius:3px; font-weight:bold;\"> man</span><span style=\"background-color:#fdbf88; color:black; padding:0px; border-radius:3px; font-weight:bold;\"> begins</span><span style=\"background-color:#fdca93; color:black; padding:0px; border-radius:3px; font-weight:bold;\"> to</span><span style=\"background-color:#fdcf99; color:black; padding:0px; border-radius:3px; font-weight:bold;\"> speak</span><span style=\"background-color:#b40201; color:black; padding:0px; border-radius:3px; font-weight:bold;\"></span></li><li><span style=\"background-color:#7f0000; color:black; padding:0px; border-radius:3px; font-weight:bold;\"></span><span style=\"background-color:#fdd8a7; color:black; padding:0px; border-radius:3px; font-weight:bold;\">A</span><span style=\"background-color:#fdad77; color:black; padding:0px; border-radius:3px; font-weight:bold;\"> chunk</span><span style=\"background-color:#fdc48d; color:black; padding:0px; border-radius:3px; font-weight:bold;\"> of</span><span style=\"background-color:#fc915c; color:black; padding:0px; border-radius:3px; font-weight:bold;\"> wood</span><span style=\"background-color:#fddeb3; color:black; padding:0px; border-radius:3px; font-weight:bold;\"> is</span><span style=\"background-color:#fda973; color:black; padding:0px; border-radius:3px; font-weight:bold;\"> being</span><span style=\"background-color:#fb8957; color:black; padding:0px; border-radius:3px; font-weight:bold;\"> saw</span><span style=\"background-color:#fdb881; color:black; padding:0px; border-radius:3px; font-weight:bold;\">ed</span><span style=\"background-color:#fca36e; color:black; padding:0px; border-radius:3px; font-weight:bold;\"> through</span><span style=\"background-color:#fddbac; color:black; padding:0px; border-radius:3px; font-weight:bold;\"> with</span><span style=\"background-color:#fff7ec; color:black; padding:0px; border-radius:3px; font-weight:bold;\"> a</span><span style=\"background-color:#fb8957; color:black; padding:0px; border-radius:3px; font-weight:bold;\"> saw</span><span style=\"background-color:#b40201; color:black; padding:0px; border-radius:3px; font-weight:bold;\"></span></li><li><span style=\"background-color:#7f0000; color:black; padding:0px; border-radius:3px; font-weight:bold;\"></span><span style=\"background-color:#fa8757; color:black; padding:0px; border-radius:3px; font-weight:bold;\">Someone</span><span style=\"background-color:#f3714d; color:black; padding:0px; border-radius:3px; font-weight:bold;\"> whist</span><span style=\"background-color:#fdb27b; color:black; padding:0px; border-radius:3px; font-weight:bold;\">les</span><span style=\"background-color:#fff7ec; color:black; padding:0px; border-radius:3px; font-weight:bold;\"> a</span><span style=\"background-color:#fc9662; color:black; padding:0px; border-radius:3px; font-weight:bold;\"> song</span><span style=\"background-color:#b40201; color:black; padding:0px; border-radius:3px; font-weight:bold;\"></span></li><li><span style=\"background-color:#7f0000; color:black; padding:0px; border-radius:3px; font-weight:bold;\"></span><span style=\"background-color:#fca06b; color:black; padding:0px; border-radius:3px; font-weight:bold;\">Veh</span><span style=\"background-color:#fdad77; color:black; padding:0px; border-radius:3px; font-weight:bold;\">icle</span><span style=\"background-color:#fc925e; color:black; padding:0px; border-radius:3px; font-weight:bold;\"> tires</span><span style=\"background-color:#fdc38c; color:black; padding:0px; border-radius:3px; font-weight:bold;\"> scree</span><span style=\"background-color:#fdab75; color:black; padding:0px; border-radius:3px; font-weight:bold;\">ch</span><span style=\"background-color:#fff7ec; color:black; padding:0px; border-radius:3px; font-weight:bold;\"> and</span><span style=\"background-color:#fff7ec; color:black; padding:0px; border-radius:3px; font-weight:bold;\"> a</span><span style=\"background-color:#fee0b7; color:black; padding:0px; border-radius:3px; font-weight:bold;\"> man</span><span style=\"background-color:#fdb27b; color:black; padding:0px; border-radius:3px; font-weight:bold;\"> speaks</span><span style=\"background-color:#fdcc96; color:black; padding:0px; border-radius:3px; font-weight:bold;\"> before</span><span style=\"background-color:#fff7ec; color:black; padding:0px; border-radius:3px; font-weight:bold;\"> a</span><span style=\"background-color:#fda973; color:black; padding:0px; border-radius:3px; font-weight:bold;\"> car</span><span style=\"background-color:#fb8a58; color:black; padding:0px; border-radius:3px; font-weight:bold;\"> door</span><span style=\"background-color:#fdcc96; color:black; padding:0px; border-radius:3px; font-weight:bold;\"> opens</span><span style=\"background-color:#b40201; color:black; padding:0px; border-radius:3px; font-weight:bold;\"></span></li><li><span style=\"background-color:#7f0000; color:black; padding:0px; border-radius:3px; font-weight:bold;\"></span><span style=\"background-color:#fdd19b; color:black; padding:0px; border-radius:3px; font-weight:bold;\">The</span><span style=\"background-color:#fda671; color:black; padding:0px; border-radius:3px; font-weight:bold;\"> r</span><span style=\"background-color:#fdb982; color:black; padding:0px; border-radius:3px; font-weight:bold;\">umbling</span><span style=\"background-color:#fdc48d; color:black; padding:0px; border-radius:3px; font-weight:bold;\"> of</span><span style=\"background-color:#fff7ec; color:black; padding:0px; border-radius:3px; font-weight:bold;\"> a</span><span style=\"background-color:#fc9f6a; color:black; padding:0px; border-radius:3px; font-weight:bold;\"> bus</span><span style=\"background-color:#fdad77; color:black; padding:0px; border-radius:3px; font-weight:bold;\"> followed</span><span style=\"background-color:#fc8f5b; color:black; padding:0px; border-radius:3px; font-weight:bold;\"> by</span><span style=\"background-color:#fff7ec; color:black; padding:0px; border-radius:3px; font-weight:bold;\"> a</span><span style=\"background-color:#fc9c67; color:black; padding:0px; border-radius:3px; font-weight:bold;\"> soft</span><span style=\"background-color:#fdc38d; color:black; padding:0px; border-radius:3px; font-weight:bold;\"> male</span><span style=\"background-color:#fdb881; color:black; padding:0px; border-radius:3px; font-weight:bold;\"> voice</span><span style=\"background-color:#b40201; color:black; padding:0px; border-radius:3px; font-weight:bold;\"></span></li><li><span style=\"background-color:#7f0000; color:black; padding:0px; border-radius:3px; font-weight:bold;\"></span><span style=\"background-color:#fff7ec; color:black; padding:0px; border-radius:3px; font-weight:bold;\">A</span><span style=\"background-color:#fee7c7; color:black; padding:0px; border-radius:3px; font-weight:bold;\"> kid</span><span style=\"background-color:#fdd8a7; color:black; padding:0px; border-radius:3px; font-weight:bold;\"> speaks</span><span style=\"background-color:#fdd6a2; color:black; padding:0px; border-radius:3px; font-weight:bold;\"> followed</span><span style=\"background-color:#fdc18a; color:black; padding:0px; border-radius:3px; font-weight:bold;\"> by</span><span style=\"background-color:#fc925e; color:black; padding:0px; border-radius:3px; font-weight:bold;\"> music</span><span style=\"background-color:#fda872; color:black; padding:0px; border-radius:3px; font-weight:bold;\"> playing</span><span style=\"background-color:#be0f0a; color:black; padding:0px; border-radius:3px; font-weight:bold;\"></span></li>\n",
       "        </ul>\n",
       "    </div>\n",
       "    "
      ],
      "text/plain": [
       "<IPython.core.display.HTML object>"
      ]
     },
     "metadata": {},
     "output_type": "display_data"
    }
   ],
   "source": [
    "import pandas as pd\n",
    "\n",
    "\n",
    "sentences = pd.read_csv(\n",
    "    \"/fs/nexus-scratch/milis/848K/CLAP/data/audiocaps/val.csv\"\n",
    ")[\"caption\"].sample(n=10)\n",
    "\n",
    "visualize_data_driven(sentences)"
   ]
  }
 ],
 "metadata": {
  "kernelspec": {
   "display_name": "Python 3",
   "language": "python",
   "name": "python3"
  },
  "language_info": {
   "codemirror_mode": {
    "name": "ipython",
    "version": 3
   },
   "file_extension": ".py",
   "mimetype": "text/x-python",
   "name": "python",
   "nbconvert_exporter": "python",
   "pygments_lexer": "ipython3",
   "version": "3.8.20"
  }
 },
 "nbformat": 4,
 "nbformat_minor": 2
}

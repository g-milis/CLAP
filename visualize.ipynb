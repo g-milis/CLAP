{
 "cells": [
  {
   "cell_type": "code",
   "execution_count": 26,
   "metadata": {},
   "outputs": [
    {
     "data": {
      "text/html": [
       "\n",
       "    <div style='font-family:monospace; background-color:white; padding:10px;'>\n",
       "        <ul style='list-style-type:none; padding:1px; margin:1px;'>\n",
       "            <li><span style=\"background-color:#fff7ec; padding:0px;  font-weight:bold; color:black;\">This</span> <span style=\"background-color:#fee5c3; padding:0px;  font-weight:bold; color:black;\">is</span> <span style=\"background-color:#f4764f; padding:0px;  font-weight:bold; color:black;\">a</span> <span style=\"background-color:#7f0000; padding:0px;  font-weight:bold; color:black;\">test</span> <span style=\"background-color:#fdcd96; padding:0px;  font-weight:bold; color:black;\">.</span></li><li><span style=\"background-color:#fee5c3; padding:0px;  font-weight:bold; color:black;\">Another</span> <span style=\"background-color:#f4764f; padding:0px;  font-weight:bold; color:black;\">example</span> <span style=\"background-color:#7f0000; padding:0px;  font-weight:bold; color:black;\">sentence</span> <span style=\"background-color:#fdcd96; padding:0px;  font-weight:bold; color:black;\">here</span> <span style=\"background-color:#fff7ec; padding:0px;  font-weight:bold; color:black;\">.</span></li><li><span style=\"background-color:#fdc38d; padding:0px;  font-weight:bold; color:black;\">Visualizing</span> <span style=\"background-color:#fff7ec; padding:0px;  font-weight:bold; color:black;\">multiple</span> <span style=\"background-color:#be0f0a; padding:0px;  font-weight:bold; color:black;\">sentences</span> <span style=\"background-color:#fc8e5a; padding:0px;  font-weight:bold; color:black;\">is</span> <span style=\"background-color:#e7533a; padding:0px;  font-weight:bold; color:black;\">easy</span> <span style=\"background-color:#7f0000; padding:0px;  font-weight:bold; color:black;\">!</span></li>\n",
       "        </ul>\n",
       "    </div>\n",
       "    "
      ],
      "text/plain": [
       "<IPython.core.display.HTML object>"
      ]
     },
     "metadata": {},
     "output_type": "display_data"
    }
   ],
   "source": [
    "import matplotlib\n",
    "import numpy as np\n",
    "from IPython.display import HTML, display\n",
    "\n",
    "\n",
    "def visualize_sentences(sentences, weight_lists, cmap_name=\"OrRd\"):\n",
    "    \"\"\"\n",
    "    Visualize multiple sentences with token weights in a list format, each with a white background.\n",
    "\n",
    "    Args:\n",
    "    - sentences (list of list of str): A list of sentences, where each sentence is a list of tokens.\n",
    "    - weight_lists (list of list of float): A list of weight lists, one for each sentence's tokens.\n",
    "    - cmap_name (str): Name of the matplotlib colormap to use.\n",
    "\n",
    "    Returns:\n",
    "    - None: Displays the highlighted sentences.\n",
    "    \"\"\"\n",
    "    # Get colormap\n",
    "    cmap = matplotlib.colormaps[cmap_name]\n",
    "    \n",
    "    # Build HTML for each sentence\n",
    "    sentence_html_list = []\n",
    "    for tokens, weights in zip(sentences, weight_lists):\n",
    "        weights = np.array(weights)\n",
    "\n",
    "        # Normalize weights to [0, 1]\n",
    "        norm_weights = (weights - min(weights)) / (max(weights) - min(weights))\n",
    "        \n",
    "        # Convert weights to colors\n",
    "        colors = [matplotlib.colors.rgb2hex(cmap(w)) for w in norm_weights]\n",
    "        \n",
    "        # Create highlighted text for the sentence\n",
    "        highlighted_sentence = \" \".join(\n",
    "            f'<span style=\"background-color:{color}; padding:0px;  font-weight:bold; color:black;\">{token}</span>'\n",
    "            for token, color in zip(tokens, colors)\n",
    "        )\n",
    "        sentence_html_list.append(f\"<li>{highlighted_sentence}</li>\")\n",
    "    \n",
    "    # Combine all sentences into a single container with a white background\n",
    "    html_content = f\"\"\"\n",
    "    <div style='font-family:monospace; background-color:white; padding:10px;'>\n",
    "        <ul style='list-style-type:none; padding:1px; margin:1px;'>\n",
    "            {''.join(sentence_html_list)}\n",
    "        </ul>\n",
    "    </div>\n",
    "    \"\"\"\n",
    "    display(HTML(html_content))\n",
    "\n",
    "\n",
    "# Example usage\n",
    "sentences = [\n",
    "    [\"This\", \"is\", \"a\", \"test\", \".\"],\n",
    "    [\"Another\", \"example\", \"sentence\", \"here\", \".\"],\n",
    "    [\"Visualizing\", \"multiple\", \"sentences\", \"is\", \"easy\", \"!\"]\n",
    "]\n",
    "weight_lists = [\n",
    "    [0.1, 0.2, 0.5, 0.8, 0.3],\n",
    "    [0.3, 0.6, 0.9, 0.4, 0.2],\n",
    "    [0.5, 0.3, 0.8, 0.6, 0.7, 0.9]\n",
    "]\n",
    "visualize_sentences(sentences, weight_lists)\n"
   ]
  }
 ],
 "metadata": {
  "kernelspec": {
   "display_name": "Python 3",
   "language": "python",
   "name": "python3"
  },
  "language_info": {
   "codemirror_mode": {
    "name": "ipython",
    "version": 3
   },
   "file_extension": ".py",
   "mimetype": "text/x-python",
   "name": "python",
   "nbconvert_exporter": "python",
   "pygments_lexer": "ipython3",
   "version": "3.8.20"
  }
 },
 "nbformat": 4,
 "nbformat_minor": 2
}
